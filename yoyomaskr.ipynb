{
 "cells": [
  {
   "cell_type": "markdown",
   "metadata": {},
   "source": [
    "# yo-yo-maskr\n",
    "## Part 1: Regex based anonymization"
   ]
  },
  {
   "cell_type": "code",
   "execution_count": 2,
   "metadata": {},
   "outputs": [
    {
     "data": {
      "application/vnd.jupyter.widget-view+json": {
       "model_id": "909d787a51ea4b14b27a17a354aeb534",
       "version_major": 2,
       "version_minor": 0
      },
      "text/plain": [
       "  0%|          | 0/2194 [00:00<?, ?it/s]"
      ]
     },
     "metadata": {},
     "output_type": "display_data"
    },
    {
     "name": "stdout",
     "output_type": "stream",
     "text": [
      "{'text': 'ggsdgg\\n', 'replace_dict': {}}\n",
      "{'text': 'rien à ajouter\\n', 'replace_dict': {}}\n",
      "{'text': 'Alles bestens abgelaufen. Sehr freundlicher Kundenkontakt.\\n', 'replace_dict': {}}\n",
      "{'text': 'Chez la bâloise on Présume coupable et fraudeur\\n', 'replace_dict': {}}\n",
      "{'text': 'Schnelle unkomplizierte Erledigung\\n', 'replace_dict': {}}\n",
      "{'text': 'Ich wurde in Mallorca bestohlen. Habe alles reibungslos mit dem Schadenexperten am #DATE_1# besprochen. Er war wirklich sehr kompetent und freundlich.  Auch die Auszahlung war nach meiner eingereichter Aufstellung super schnell und grosszügig.  Besten Dank.\\n', 'replace_dict': {'14.Mai': '#DATE_1#'}}\n",
      "{'text': 'Unkomplizierte und zeitgemässe Abhandlung des Schadenfalls.\\n', 'replace_dict': {}}\n",
      "{'text': 'très satisfaite de traitement de sinistre, rapide et efficace\\n', 'replace_dict': {}}\n",
      "{'text': 'Kompetent, unkompliziert und immer freundlich!  #NAME_2# #NAME_1# ist immer sehr hilfsbereit und man merkt, dass ihm seine Kunden sehr wichtig sind!!\\n', 'replace_dict': {'Dominik Mächler': '#NAME_1#', 'Herr': '#NAME_2#'}}\n",
      "{'text': 'schnell und einfach\\n', 'replace_dict': {}}\n",
      "{'text': 'toller rascher Service...\\n', 'replace_dict': {}}\n",
      "{'text': '#NAME_1# société polaire et fiable\\n', 'replace_dict': {'Grande': '#NAME_1#'}}\n",
      "{'text': '#NAME_1# ich mit der Baloise einfach gut finden .-)\\n', 'replace_dict': {'Weil': '#NAME_1#'}}\n",
      "{'text': 'Schadenmeldung unkompliziert übers Web abgewickelt.  Schelle Kontaktaufnahme seitens Versicherung. etc...\\n', 'replace_dict': {}}\n",
      "{'text': 'Sehr freundliche Kundenbetreuung in der Niederlassung Chur.\\n', 'replace_dict': {}}\n",
      "{'text': 'Wir haben sehr gute Geschäftsbeziehung mit Herrn #NAME_1# und Herrn #NAME_2#.\\n', 'replace_dict': {'Martin Lusser': '#NAME_1#', 'Marco Gisin': '#NAME_2#'}}\n",
      "{'text': 'interraction simple et efficace. Prise en main du cas et gestion de ce dernier de bout en bout.\\n', 'replace_dict': {}}\n",
      "{'text': 'super Service, unerwartete Vergütung\\n', 'replace_dict': {}}\n",
      "{'text': 'No good communication about the status with me (the customer)\\n', 'replace_dict': {}}\n",
      "{'text': 'Sehr kompetente und freundliche #NAME_1# der Mitarbeiter. Abwicklung hat bestens funktionniert.\\n', 'replace_dict': {'Art': '#NAME_1#'}}\n",
      "{'text': 'Da die Brille profisorisch geflickt werden muste und sie, dann noch Bilder von der defekten Brille wollten. das danach fast unmöglich war. Die Brille wurde ja wieder Gebraucht, ohne Brille ist nicht sehr gut.\\n', 'replace_dict': {}}\n",
      "{'text': 'erste Abwicklung gut gelaufen, jedoch relativ hohe Kosten\\n', 'replace_dict': {}}\n",
      "{'text': 'einfache, zielgerichtete Abwicklung des Schadenfalls. merci\\n', 'replace_dict': {}}\n",
      "{'text': 'Schadenabwicklung funktionierte tadellos mit Ersatzwagen\\n', 'replace_dict': {}}\n",
      "{'text': 'Simple et rapide\\n', 'replace_dict': {}}\n",
      "{'text': 'Sofortiges reagieren auf Schadenmeldung und anschliessende Erledigung\\n', 'replace_dict': {}}\n",
      "{'text': 'Sehr freundlicher und effektiver Kontakt am Telefon. Reibungslose Schadensabwicklung. Wir verlassen die Baloise nur wegen der starken Kostenerhöhung. Der Service war wirklich super.\\n', 'replace_dict': {}}\n",
      "{'text': 'Einfach und unkompliziert. Rasche und kompetente Abwicklung\\n', 'replace_dict': {}}\n",
      "{'text': 'Kompetente und schnelle Abwicklung der Schadenfälle\\n', 'replace_dict': {}}\n",
      "{'text': 'Rapport qualité prix\\n', 'replace_dict': {}}\n"
     ]
    }
   ],
   "source": [
    "from tqdm.auto import tqdm\n",
    "from src.utils.regex import anonymize_dates, anonymize_entities, create_names_regex\n",
    "\n",
    "with open('./data/first_names.txt') as f:\n",
    "    first_names = f.read().split('\\n')\n",
    "\n",
    "with open('./data/last_names.txt') as f:\n",
    "    last_names = f.read().split('\\n')\n",
    "\n",
    "with open('./sample_texts.txt') as f:\n",
    "    sample_texts = f.readlines()\n",
    "\n",
    "result = [anonymize_entities(text, by_names='NAME', first_names=first_names, last_names=last_names) for text in tqdm(sample_texts[:])]\n",
    "for i in range(len(result[:30])):\n",
    "    print(result[i])"
   ]
  }
 ],
 "metadata": {
  "kernelspec": {
   "display_name": ".venv",
   "language": "python",
   "name": "python3"
  },
  "language_info": {
   "codemirror_mode": {
    "name": "ipython",
    "version": 3
   },
   "file_extension": ".py",
   "mimetype": "text/x-python",
   "name": "python",
   "nbconvert_exporter": "python",
   "pygments_lexer": "ipython3",
   "version": "3.13.0"
  }
 },
 "nbformat": 4,
 "nbformat_minor": 2
}
