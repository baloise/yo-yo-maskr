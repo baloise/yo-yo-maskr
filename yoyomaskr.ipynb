{
 "cells": [
  {
   "cell_type": "markdown",
   "metadata": {},
   "source": [
    "# yo-yo-maskr\n",
    "## Part 1: Regex based anonymization"
   ]
  },
  {
   "cell_type": "code",
   "execution_count": null,
   "metadata": {},
   "outputs": [],
   "source": [
    "import dill\n",
    "import regex as re\n",
    "from src.utils.regex import create_names_regex\n",
    "from src.utils.trie import Trie\n",
    "\n",
    "NAMES_FROM_PICKLE = False\n",
    "\n",
    "if NAMES_FROM_PICKLE:\n",
    "    with open('./data/first_names__regex.pkl', 'rb') as f:\n",
    "        first_names = dill.load(f)\n",
    "    with open('./data/last_names_trie_regex.pkl', 'rb') as f:\n",
    "        last_names = dill.load(f)\n",
    "    with open('./data/first_names_trie_regex.pkl', 'rb') as f:\n",
    "        first_names_trie = dill.load(f)\n",
    "    with open('./data/last_names_trie_regex.pkl', 'rb') as f:\n",
    "        last_names_trie = dill.load(f)\n",
    "else:\n",
    "    with open('./data/first_names.txt') as f:\n",
    "        first_names = [l.strip() for l in f.read().split('\\n') if len(l.strip()) > 0]\n",
    "    first_names_regex = create_names_regex(first_names)\n",
    "    with open('./data/first_names_regex.pkl', 'wb') as f:\n",
    "            dill.dump(first_names_regex, f)\n",
    "    first_trie = Trie()\n",
    "    for name in sorted([f for f in first_names if len(f) > 0], key=len, reverse=True):\n",
    "        first_trie.add(name)\n",
    "    first_trie_regex = re.compile(r'\\b' + first_trie.pattern() + r'\\b')\n",
    "    with open('./data/first_names_regex.pkl', 'wb') as f:\n",
    "        dill.dump(first_trie_regex, f)\n",
    "\n",
    "    with open('./data/last_names.txt') as f:\n",
    "        last_names = [l.strip() for l in f.read().split('\\n') if len(l.strip()) > 0]\n",
    "    last_names_regex = create_names_regex(last_names)\n",
    "    with open('./data/last_names_regex.pkl', 'wb') as f:\n",
    "        dill.dump(last_names_regex, f)\n",
    "    last_trie = Trie()\n",
    "    for name in sorted([l for l in last_names if len(l) > 0], key=len, reverse=True):\n",
    "        last_trie.add(name)\n",
    "    last_trie_regex = re.compile(r'\\b' + last_trie.pattern() + r'\\b')\n",
    "    with open('./data/last_names_trie_regex.pkl', 'wb') as f:\n",
    "        dill.dump(last_trie_regex, f)"
   ]
  },
  {
   "cell_type": "code",
   "execution_count": null,
   "metadata": {},
   "outputs": [],
   "source": [
    "import regex as re\n",
    "from tqdm.auto import tqdm\n",
    "from src.utils.regex import anonymize_entities\n",
    "\n",
    "with open('./sample_texts.txt') as f:\n",
    "    sample_texts = f.read().split('\\n')\n",
    "\n",
    "last_trie_regex = re.compile(r'\\b' + last_trie.pattern() + r'\\b')\n",
    "first_trie_regex = re.compile(r'\\b' + first_trie.pattern() + r'\\b')\n",
    "\n",
    "result = [anonymize_entities(text, by_names='NAME', first_names=first_trie_regex, last_names=last_trie_regex) for text in tqdm(sample_texts[:])]\n",
    "for i in range(len(result[:30])):\n",
    "    print(result[i])"
   ]
  }
 ],
 "metadata": {
  "kernelspec": {
   "display_name": ".venv",
   "language": "python",
   "name": "python3"
  },
  "language_info": {
   "codemirror_mode": {
    "name": "ipython",
    "version": 3
   },
   "file_extension": ".py",
   "mimetype": "text/x-python",
   "name": "python",
   "nbconvert_exporter": "python",
   "pygments_lexer": "ipython3",
   "version": "3.13.0"
  }
 },
 "nbformat": 4,
 "nbformat_minor": 2
}
