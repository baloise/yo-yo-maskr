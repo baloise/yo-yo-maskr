{
 "cells": [
  {
   "cell_type": "markdown",
   "metadata": {},
   "source": [
    "# yo-yo-maskr\n",
    "## Part 1: Regex based anonymization"
   ]
  },
  {
   "cell_type": "code",
   "execution_count": 3,
   "metadata": {},
   "outputs": [],
   "source": [
    "import dill\n",
    "import regex as re\n",
    "from src.utils.ano_regex import create_names_regex\n",
    "from src.utils.trie import Trie\n",
    "\n",
    "NAMES_FROM_PICKLE = False\n",
    "USE_FULL = False\n",
    "\n",
    "if NAMES_FROM_PICKLE:\n",
    "    with open('./data/first_names_regex.pkl', 'rb') as f:\n",
    "        first_names = dill.load(f)\n",
    "    with open('./data/last_names_trie_regex.pkl', 'rb') as f:\n",
    "        last_names = dill.load(f)\n",
    "    with open('./data/first_names_trie_regex.pkl', 'rb') as f:\n",
    "        first_names_trie = dill.load(f)\n",
    "    with open('./data/last_names_trie_regex.pkl', 'rb') as f:\n",
    "        last_names_trie = dill.load(f)\n",
    "else:\n",
    "    with open(f'./data/first_names{\"_full\" if USE_FULL else \"\"}.txt') as f:\n",
    "        first_names = [l.strip() for l in f.read().split('\\n') if len(l.strip()) > 0]\n",
    "    first_names_regex = create_names_regex(first_names)\n",
    "    with open('./data/first_names_regex.pkl', 'wb') as f:\n",
    "            dill.dump(first_names_regex, f)\n",
    "    first_trie = Trie()\n",
    "    for name in sorted([f for f in first_names if len(f) > 0], key=len, reverse=True):\n",
    "        first_trie.add(name)\n",
    "    first_trie_regex = re.compile(r'\\b' + first_trie.pattern() + r'\\b')\n",
    "    with open('./data/first_names_trie_regex.pkl', 'wb') as f:\n",
    "        dill.dump(first_trie_regex, f)\n",
    "\n",
    "    with open(f'./data/last_names{\"_full\" if USE_FULL else \"\"}.txt') as f:\n",
    "        last_names = [l.strip() for l in f.read().split('\\n') if len(l.strip()) > 0]\n",
    "    last_names_regex = create_names_regex(last_names)\n",
    "    with open('./data/last_names_regex.pkl', 'wb') as f:\n",
    "        dill.dump(last_names_regex, f)\n",
    "    last_trie = Trie()\n",
    "    for name in sorted([l for l in last_names if len(l) > 0], key=len, reverse=True):\n",
    "        last_trie.add(name)\n",
    "    last_trie_regex = re.compile(r'\\b' + last_trie.pattern() + r'\\b')\n",
    "    with open('./data/last_names_trie_regex.pkl', 'wb') as f:\n",
    "        dill.dump(last_trie_regex, f)\n",
    "\n",
    "with open('data/_all_orig.txt') as f:\n",
    "    sample_texts = f.read().split('\\n')"
   ]
  },
  {
   "cell_type": "code",
   "execution_count": 4,
   "metadata": {},
   "outputs": [
    {
     "data": {
      "application/vnd.jupyter.widget-view+json": {
       "model_id": "86318ba1b5ac42a7b5722a7aa52ad355",
       "version_major": 2,
       "version_minor": 0
      },
      "text/plain": [
       "  0%|          | 0/2195 [00:00<?, ?it/s]"
      ]
     },
     "metadata": {},
     "output_type": "display_data"
    },
    {
     "name": "stdout",
     "output_type": "stream",
     "text": [
      "{'text': 'ggsdgg', 'replace_dict': {}}\n",
      "{'text': 'rien à ajouter', 'replace_dict': {}}\n",
      "{'text': 'Alles bestens abgelaufen. Sehr freundlicher Kundenkontakt.', 'replace_dict': {}}\n",
      "{'text': 'Chez la bâloise on Présume coupable et fraudeur', 'replace_dict': {}}\n",
      "{'text': 'Schnelle unkomplizierte Erledigung', 'replace_dict': {}}\n",
      "{'text': 'Ich wurde in Mallorca bestohlen. Habe alles reibungslos mit dem Schadenexperten am #DATE_1# besprochen. Er war wirklich sehr kompetent und freundlich.  Auch die Auszahlung war nach meiner eingereichter Aufstellung super schnell und grosszügig.  Besten Dank.', 'replace_dict': {'#DATE_1#': {'matches': {'14.Mai'}, 'replacement': '14.Mai'}}}\n",
      "{'text': 'Unkomplizierte und zeitgemässe Abhandlung des Schadenfalls.', 'replace_dict': {}}\n",
      "{'text': 'très satisfaite de traitement de sinistre, rapide et efficace', 'replace_dict': {}}\n",
      "{'text': 'Kompetent, unkompliziert und immer freundlich!  #NAME_2# #NAME_1# ist immer sehr hilfsbereit und man merkt, dass ihm seine Kunden sehr wichtig sind!!', 'replace_dict': {'#NAME_1#': {'matches': {'Dominik Mächler'}, 'replacement': 'Dominik Mächler'}, '#NAME_2#': {'matches': {'Herr'}, 'replacement': 'Herr'}}}\n",
      "{'text': 'schnell und einfach', 'replace_dict': {}}\n",
      "{'text': 'toller rascher Service...', 'replace_dict': {}}\n",
      "{'text': '#NAME_1# société polaire et fiable', 'replace_dict': {'#NAME_1#': {'matches': {'Grande'}, 'replacement': 'Grande'}}}\n",
      "{'text': '#NAME_1# ich mit der Baloise einfach gut finden .-)', 'replace_dict': {'#NAME_1#': {'matches': {'Weil'}, 'replacement': 'Weil'}}}\n",
      "{'text': 'Schadenmeldung unkompliziert übers Web abgewickelt.  Schelle Kontaktaufnahme seitens Versicherung. etc...', 'replace_dict': {}}\n",
      "{'text': 'Sehr freundliche Kundenbetreuung in der Niederlassung Chur.', 'replace_dict': {}}\n",
      "{'text': 'Wir haben sehr gute Geschäftsbeziehung mit Herrn #NAME_1# und Herrn #NAME_2#.', 'replace_dict': {'#NAME_1#': {'matches': {'Martin Lusser'}, 'replacement': 'Martin Lusser'}, '#NAME_2#': {'matches': {'Marco Gisin'}, 'replacement': 'Marco Gisin'}}}\n",
      "{'text': 'interraction simple et efficace. Prise en main du cas et gestion de ce dernier de bout en bout.', 'replace_dict': {}}\n",
      "{'text': 'super Service, unerwartete Vergütung', 'replace_dict': {}}\n",
      "{'text': 'No good communication about the status with me (the customer)', 'replace_dict': {}}\n",
      "{'text': 'Sehr kompetente und freundliche #NAME_1# der Mitarbeiter. Abwicklung hat bestens funktionniert.', 'replace_dict': {'#NAME_1#': {'matches': {'Art'}, 'replacement': 'Art'}}}\n",
      "{'text': 'Da die Brille profisorisch geflickt werden muste und sie, dann noch Bilder von der defekten Brille wollten. das danach fast unmöglich war. Die Brille wurde ja wieder Gebraucht, ohne Brille ist nicht sehr gut.', 'replace_dict': {}}\n",
      "{'text': 'erste Abwicklung gut gelaufen, jedoch relativ hohe Kosten', 'replace_dict': {}}\n",
      "{'text': 'einfache, zielgerichtete Abwicklung des Schadenfalls. merci', 'replace_dict': {}}\n",
      "{'text': 'Schadenabwicklung funktionierte tadellos mit Ersatzwagen', 'replace_dict': {}}\n",
      "{'text': 'Simple et rapide', 'replace_dict': {}}\n",
      "{'text': 'Sofortiges reagieren auf Schadenmeldung und anschliessende Erledigung', 'replace_dict': {}}\n",
      "{'text': 'Sehr freundlicher und effektiver Kontakt am Telefon. Reibungslose Schadensabwicklung. Wir verlassen die Baloise nur wegen der starken Kostenerhöhung. Der Service war wirklich super.', 'replace_dict': {}}\n",
      "{'text': 'Einfach und unkompliziert. Rasche und kompetente Abwicklung', 'replace_dict': {}}\n",
      "{'text': 'Kompetente und schnelle Abwicklung der Schadenfälle', 'replace_dict': {}}\n",
      "{'text': 'Rapport qualité prix', 'replace_dict': {}}\n"
     ]
    }
   ],
   "source": [
    "import regex as re\n",
    "from tqdm.auto import tqdm\n",
    "from src.utils.ano_regex import anonymize_entities\n",
    "\n",
    "last_trie_regex = re.compile(r'\\b' + last_trie.pattern() + r'\\b')\n",
    "first_trie_regex = re.compile(r'\\b' + first_trie.pattern() + r'\\b')\n",
    "\n",
    "result = [anonymize_entities(text, by_names='NAME', first_names=first_trie_regex, last_names=last_trie_regex) for text in tqdm(sample_texts[:])]\n",
    "for i in range(len(result[:30])):\n",
    "    print(result[i])"
   ]
  },
  {
   "cell_type": "code",
   "execution_count": 5,
   "metadata": {},
   "outputs": [
    {
     "data": {
      "application/vnd.jupyter.widget-view+json": {
       "model_id": "fca2935bab064fabb16156b023bed369",
       "version_major": 2,
       "version_minor": 0
      },
      "text/plain": [
       "  0%|          | 0/2195 [00:00<?, ?it/s]"
      ]
     },
     "metadata": {},
     "output_type": "display_data"
    }
   ],
   "source": [
    "from flashtext2 import KeywordProcessor\n",
    "from tqdm.auto import tqdm\n",
    "\n",
    "ln = KeywordProcessor(case_sensitive=True)\n",
    "for name in last_names:\n",
    "    ln.add_keyword(name)\n",
    "\n",
    "fn = KeywordProcessor(case_sensitive=True)\n",
    "for name in first_names:\n",
    "    fn.add_keyword(name)\n",
    "\n",
    "result = [{'text': text, 'first_names': fn.extract_keywords_with_span(text),\n",
    "           'last_names': ln.extract_keywords_with_span(text)} for text in tqdm(sample_texts)]"
   ]
  }
 ],
 "metadata": {
  "kernelspec": {
   "display_name": ".venv",
   "language": "python",
   "name": "python3"
  },
  "language_info": {
   "codemirror_mode": {
    "name": "ipython",
    "version": 3
   },
   "file_extension": ".py",
   "mimetype": "text/x-python",
   "name": "python",
   "nbconvert_exporter": "python",
   "pygments_lexer": "ipython3",
   "version": "3.12.7"
  }
 },
 "nbformat": 4,
 "nbformat_minor": 2
}
